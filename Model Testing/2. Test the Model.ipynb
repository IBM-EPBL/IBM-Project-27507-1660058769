{
 "cells": [
  {
   "cell_type": "markdown",
   "id": "8a428ad2",
   "metadata": {},
   "source": [
    "# Model Testing"
   ]
  },
  {
   "cell_type": "markdown",
   "id": "71b6ac40",
   "metadata": {},
   "source": [
    "## Import The Packages"
   ]
  },
  {
   "cell_type": "code",
   "execution_count": 1,
   "id": "a1595fc7",
   "metadata": {},
   "outputs": [],
   "source": [
    "from tensorflow.keras.models import load_model\n",
    "from tensorflow.keras.preprocessing import image\n",
    "import numpy as np\n",
    "import os\n",
    "import cv2"
   ]
  },
  {
   "cell_type": "markdown",
   "id": "254d09a2",
   "metadata": {},
   "source": [
    "## Load The Saved Model"
   ]
  },
  {
   "cell_type": "code",
   "execution_count": 2,
   "id": "623da099",
   "metadata": {},
   "outputs": [],
   "source": [
    "model = load_model('./ASL_Model.h5')"
   ]
  },
  {
   "cell_type": "markdown",
   "id": "56c6fc9f",
   "metadata": {},
   "source": [
    "## Test the Model"
   ]
  },
  {
   "cell_type": "code",
   "execution_count": 3,
   "id": "2bbc32e5",
   "metadata": {},
   "outputs": [
    {
     "data": {
      "image/png": "[encoded data removed]",
      "text/plain": [
       "<PIL.Image.Image image mode=RGB size=100x100>"
      ]
     },
     "execution_count": 3,
     "metadata": {},
     "output_type": "execute_result"
    }
   ],
   "source": [
    "img = image.load_img('./Dataset/test_set/E/200.png',target_size = (100,100))\n",
    "img"
   ]
  },
  {
   "cell_type": "code",
   "execution_count": 4,
   "id": "96e2e93d",
   "metadata": {},
   "outputs": [],
   "source": [
    "from skimage.transform import resize\n",
    "def detect(frame):\n",
    "    img=image.img_to_array(frame)\n",
    "    img = resize(img,(64,64,3))\n",
    "    img = np.expand_dims(img,axis=0)\n",
    "    pred=np.argmax(model.predict(img))\n",
    "    op=['A','B','C','D','E','F','G','H','I']\n",
    "    print(\"THE PREDICTED LETTER IS \",op[pred])"
   ]
  },
  {
   "cell_type": "code",
   "execution_count": 5,
   "id": "7f9d2d5c",
   "metadata": {},
   "outputs": [
    {
     "name": "stdout",
     "output_type": "stream",
     "text": [
      "1/1 [==============================] - 3s 3s/step\n",
      "THE PREDICTED LETTER IS  E\n"
     ]
    }
   ],
   "source": [
    "img=image.load_img(\"./Dataset/test_set/E/200.png\")\n",
    "detect(img)"
   ]
  },
  {
   "cell_type": "code",
   "execution_count": 6,
   "id": "6ef7f592",
   "metadata": {},
   "outputs": [
    {
     "name": "stdout",
     "output_type": "stream",
     "text": [
      "1/1 [==============================] - 0s 27ms/step\n",
      "THE PREDICTED LETTER IS  A\n"
     ]
    }
   ],
   "source": [
    "img = image.load_img('./Dataset/test_set/A/112.png')\n",
    "pred=detect(img)"
   ]
  },
  {
   "cell_type": "code",
   "execution_count": 7,
   "id": "68d88e3b",
   "metadata": {},
   "outputs": [
    {
     "name": "stdout",
     "output_type": "stream",
     "text": [
      "1/1 [==============================] - 0s 19ms/step\n",
      "THE PREDICTED LETTER IS  I\n"
     ]
    }
   ],
   "source": [
    "img = image.load_img('./Dataset/test_set/I/12.png')\n",
    "pred=detect(img)"
   ]
  },
  {
   "cell_type": "code",
   "execution_count": 8,
   "id": "e6a4f89e",
   "metadata": {},
   "outputs": [
    {
     "name": "stdout",
     "output_type": "stream",
     "text": [
      "1/1 [==============================] - 0s 21ms/step\n",
      "THE PREDICTED LETTER IS  C\n"
     ]
    }
   ],
   "source": [
    "img = image.load_img('./Dataset/test_set/C/57.png')\n",
    "pred=detect(img)"
   ]
  },
  {
   "cell_type": "code",
   "execution_count": 9,
   "id": "c71888c0",
   "metadata": {},
   "outputs": [
    {
     "name": "stdout",
     "output_type": "stream",
     "text": [
      "1/1 [==============================] - 0s 17ms/step\n",
      "THE PREDICTED LETTER IS  D\n"
     ]
    }
   ],
   "source": [
    "img = image.load_img('C:/Users/snave/Downloads/asl--a.jpg')\n",
    "pred=detect(img)"
   ]
  },
  {
   "cell_type": "code",
   "execution_count": null,
   "id": "b06777b5",
   "metadata": {},
   "outputs": [],
   "source": []
  }
 ],
 "metadata": {
  "kernelspec": {
   "display_name": "Python 3 (ipykernel)",
   "language": "python",
   "name": "python3"
  },
  "language_info": {
   "codemirror_mode": {
    "name": "ipython",
    "version": 3
   },
   "file_extension": ".py",
   "mimetype": "text/x-python",
   "name": "python",
   "nbconvert_exporter": "python",
   "pygments_lexer": "ipython3",
   "version": "3.9.13"
  },
  "toc-autonumbering": true,
  "toc-showmarkdowntxt": true
 },
 "nbformat": 4,
 "nbformat_minor": 5
}

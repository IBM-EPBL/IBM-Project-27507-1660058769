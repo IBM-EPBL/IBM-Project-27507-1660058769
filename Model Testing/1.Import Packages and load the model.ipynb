{
 "cells": [
  {
   "cell_type": "markdown",
   "id": "1f184853",
   "metadata": {},
   "source": [
    "# Model Testing"
   ]
  },
  {
   "cell_type": "markdown",
   "id": "27560026",
   "metadata": {},
   "source": [
    "## Import The Packages"
   ]
  },
  {
   "cell_type": "code",
   "execution_count": 1,
   "id": "a1595fc7",
   "metadata": {},
   "outputs": [],
   "source": [
    "from tensorflow.keras.models import load_model\n",
    "from tensorflow.keras.preprocessing import image\n",
    "import numpy as np\n",
    "import os\n",
    "import cv2"
   ]
  },
  {
   "cell_type": "markdown",
   "id": "ba74c8a3",
   "metadata": {},
   "source": [
    "## Load The Saved Model"
   ]
  },
  {
   "cell_type": "code",
   "execution_count": 2,
   "id": "623da099",
   "metadata": {},
   "outputs": [],
   "source": [
    "model = load_model('./ASL_Model.h5')"
   ]
  }
 ],
 "metadata": {
  "kernelspec": {
   "display_name": "Python 3.11.0 64-bit",
   "language": "python",
   "name": "python3"
  },
  "language_info": {
   "codemirror_mode": {
    "name": "ipython",
    "version": 3
   },
   "file_extension": ".py",
   "mimetype": "text/x-python",
   "name": "python",
   "nbconvert_exporter": "python",
   "pygments_lexer": "ipython3",
   "version": "3.11.0"
  },
  "toc-autonumbering": true,
  "toc-showmarkdowntxt": true,
  "vscode": {
   "interpreter": {
    "hash": "0a480542a10e3b1e39b8690dd1ce1c6016d1321b2a218b18d4ca8ee2858c3f4f"
   }
  }
 },
 "nbformat": 4,
 "nbformat_minor": 5
}

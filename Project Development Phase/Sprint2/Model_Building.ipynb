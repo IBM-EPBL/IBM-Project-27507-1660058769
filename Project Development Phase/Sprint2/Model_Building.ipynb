{
 "cells": [
  {
   "cell_type": "markdown",
   "id": "a3ab4ae9",
   "metadata": {},
   "source": [
    "# Model Building"
   ]
  },
  {
   "cell_type": "markdown",
   "id": "811362af",
   "metadata": {},
   "source": [
    "## Train and Test the Data"
   ]
  },
  {
   "cell_type": "code",
   "execution_count": 1,
   "id": "24ae3184",
   "metadata": {},
   "outputs": [],
   "source": [
    "from keras.preprocessing.image import ImageDataGenerator\n",
    "train_datagen=ImageDataGenerator(rescale = 1./255, shear_range=0.2, zoom_range=0.2,horizontal_flip=True)\n",
    "test_datagen = ImageDataGenerator(rescale=1./255)"
   ]
  },
  {
   "cell_type": "code",
   "execution_count": 2,
   "id": "a51655f9",
   "metadata": {},
   "outputs": [],
   "source": [
    "train_datapath =\"dataset/train_set/\"\n",
    "test_datapath= 'dataset/test_set/'"
   ]
  },
  {
   "cell_type": "code",
   "execution_count": 3,
   "id": "e7088b3c",
   "metadata": {},
   "outputs": [
    {
     "name": "stdout",
     "output_type": "stream",
     "text": [
      "Found 15750 images belonging to 9 classes.\n"
     ]
    }
   ],
   "source": [
    "x_train = train_datagen.flow_from_directory(train_datapath,target_size=(64,64), batch_size=300,\n",
    "                                            class_mode='categorical', color_mode = \"grayscale\")"
   ]
  },
  {
   "cell_type": "code",
   "execution_count": 4,
   "id": "1a8a7c01",
   "metadata": {},
   "outputs": [
    {
     "name": "stdout",
     "output_type": "stream",
     "text": [
      "Found 2250 images belonging to 9 classes.\n"
     ]
    }
   ],
   "source": [
    "x_test = test_datagen.flow_from_directory(test_datapath,target_size=(64,64), batch_size=300,\n",
    "                                          class_mode='categorical', color_mode = \"grayscale\")"
   ]
  },
  {
   "cell_type": "markdown",
   "id": "9052d514",
   "metadata": {},
   "source": [
    "## Building the Model"
   ]
  },
  {
   "cell_type": "code",
   "execution_count": 5,
   "id": "2181fb8d",
   "metadata": {},
   "outputs": [],
   "source": [
    "import tensorflow as tf\n",
    "from keras.models import Sequential\n",
    "from keras.layers import Dense\n",
    "from keras.layers import Convolution2D\n",
    "from tensorflow.keras.layers import Conv2D, MaxPooling2D\n",
    "from keras.layers import Dropout\n",
    "from keras.layers import Flatten"
   ]
  },
  {
   "cell_type": "code",
   "execution_count": 11,
   "id": "8c303832",
   "metadata": {},
   "outputs": [],
   "source": [
    "model=Sequential()\n",
    "# Adding Layers\n",
    "model.add(Convolution2D(32,(3,3),input_shape=(64,64,1), activation='relu'))\n",
    "#no. of feature detectors, size of feature detector, image size, activation function\n",
    "model.add(MaxPooling2D(pool_size=(2,2)))\n",
    "model.add(Flatten())\n",
    "model.add(Dense(units=512, activation = 'relu'))\n",
    "model.add(Dense(units=9,  activation = 'softmax'))"
   ]
  },
  {
   "cell_type": "code",
   "execution_count": 12,
   "id": "dcc48dfc",
   "metadata": {},
   "outputs": [],
   "source": [
    "model.compile(loss='categorical_crossentropy', optimizer='adam', metrics=['accuracy'])"
   ]
  },
  {
   "cell_type": "code",
   "execution_count": 13,
   "id": "4bc87a02",
   "metadata": {
    "scrolled": false
   },
   "outputs": [
    {
     "name": "stderr",
     "output_type": "stream",
     "text": [
      "C:\\Users\\snave\\AppData\\Local\\Temp\\ipykernel_5924\\2628159.py:2: UserWarning: `Model.fit_generator` is deprecated and will be removed in a future version. Please use `Model.fit`, which supports generators.\n",
      "  model.fit_generator(x_train,steps_per_epoch=24,epochs=10,validation_data = x_test, validation_steps= 40)\n"
     ]
    },
    {
     "name": "stdout",
     "output_type": "stream",
     "text": [
      "Epoch 1/10\n",
      "24/24 [==============================] - ETA: 0s - loss: 1.6305 - accuracy: 0.5772WARNING:tensorflow:Your input ran out of data; interrupting training. Make sure that your dataset or generator can generate at least `steps_per_epoch * epochs` batches (in this case, 40 batches). You may need to use the repeat() function when building your dataset.\n",
      "24/24 [==============================] - 43s 2s/step - loss: 1.6305 - accuracy: 0.5772 - val_loss: 0.6381 - val_accuracy: 0.8200\n",
      "Epoch 2/10\n",
      "24/24 [==============================] - 17s 705ms/step - loss: 0.4105 - accuracy: 0.8840\n",
      "Epoch 3/10\n",
      "24/24 [==============================] - 11s 444ms/step - loss: 0.2083 - accuracy: 0.9458\n",
      "Epoch 4/10\n",
      "24/24 [==============================] - 8s 331ms/step - loss: 0.1163 - accuracy: 0.9732\n",
      "Epoch 5/10\n",
      "24/24 [==============================] - 6s 251ms/step - loss: 0.0775 - accuracy: 0.9804\n",
      "Epoch 6/10\n",
      "24/24 [==============================] - 5s 220ms/step - loss: 0.0646 - accuracy: 0.9846\n",
      "Epoch 7/10\n",
      "24/24 [==============================] - 4s 182ms/step - loss: 0.0492 - accuracy: 0.9885\n",
      "Epoch 8/10\n",
      "24/24 [==============================] - 4s 175ms/step - loss: 0.0350 - accuracy: 0.9921\n",
      "Epoch 9/10\n",
      "24/24 [==============================] - 4s 166ms/step - loss: 0.0306 - accuracy: 0.9935\n",
      "Epoch 10/10\n",
      "24/24 [==============================] - 4s 175ms/step - loss: 0.0206 - accuracy: 0.9960\n"
     ]
    },
    {
     "data": {
      "text/plain": [
       "<keras.callbacks.History at 0x2374afcfa60>"
      ]
     },
     "execution_count": 13,
     "metadata": {},
     "output_type": "execute_result"
    }
   ],
   "source": [
    "# Fitting the Model Generator\n",
    "model.fit_generator(x_train,steps_per_epoch=24,epochs=10,validation_data = x_test, validation_steps= 40)\n",
    "#steps_per_epoch = no. of train images//batch size"
   ]
  },
  {
   "cell_type": "code",
   "execution_count": 14,
   "id": "45f3b0ba",
   "metadata": {},
   "outputs": [],
   "source": [
    "model.save('Model.h5')"
   ]
  }
 ],
 "metadata": {
  "kernelspec": {
   "display_name": "Python 3 (ipykernel)",
   "language": "python",
   "name": "python3"
  },
  "language_info": {
   "codemirror_mode": {
    "name": "ipython",
    "version": 3
   },
   "file_extension": ".py",
   "mimetype": "text/x-python",
   "name": "python",
   "nbconvert_exporter": "python",
   "pygments_lexer": "ipython3",
   "version": "3.9.12"
  },
  "toc-autonumbering": true,
  "toc-showmarkdowntxt": true
 },
 "nbformat": 4,
 "nbformat_minor": 5
}
